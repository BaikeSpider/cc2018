{
 "cells": [
  {
   "cell_type": "markdown",
   "metadata": {
    "slideshow": {
     "slide_type": "slide"
    }
   },
   "source": [
    "\n",
    "### 南京大学新闻传播学院硕士课程\n",
    "***\n",
    "***\n",
    "# 计算新闻传播学：大数据挖掘与分析\n",
    "\n",
    "## 课程简介\n",
    "***\n",
    "***\n",
    "\n",
    "王成军 \n",
    "\n",
    "wangchengjun@nju.edu.cn\n",
    "\n",
    "计算传播网 http://computational-communication.com\n"
   ]
  },
  {
   "cell_type": "markdown",
   "metadata": {
    "slideshow": {
     "slide_type": "slide"
    }
   },
   "source": [
    "<img src = './img/webavatar.png'>\n",
    "http://computational-communication.com"
   ]
  },
  {
   "cell_type": "markdown",
   "metadata": {
    "slideshow": {
     "slide_type": "slide"
    }
   },
   "source": [
    "# 内容\n",
    "- 时间安排\n",
    "- 课程资料\n",
    "- 授课计划\n",
    "- 课前准备"
   ]
  },
  {
   "cell_type": "markdown",
   "metadata": {
    "slideshow": {
     "slide_type": "slide"
    }
   },
   "source": [
    "# 时间安排\n",
    "\n",
    "- 36学时，两学分\n",
    "\n",
    "\n",
    "| 时间          |  上午         |    下午   |晚上        | 课时数量   |\n",
    "| -------------|:-------------:|:-------------:|:-------------:|-----:|\n",
    "| 2017-05-12 周五 | 9:00-12:00 | 14:00-17:00 | 作业&答疑 | 6学时\n",
    "| 2017-05-13 周六 | 9:00-12:00 | 14:00-17:00 | 作业&答疑 | 6学时|\n",
    "| 2017-05-14 周天 | 9:00-12:00 | 14:00-17:00 | 作业&答疑 | 6学时|\n",
    "| 2017-05-19 周五 | 9:00-12:00 | 14:00-17:00 | 作业&答疑 | 6学时|\n",
    "| 2017-05-20 周六 | 9:00-12:00 | 14:00-17:00 | 作业&答疑 | 6学时|\n",
    "| 2017-05-21 周天 | 9:00-12:00 | 14:00-17:00 | 作业&答疑 | 6学时|\n"
   ]
  },
  {
   "cell_type": "markdown",
   "metadata": {
    "slideshow": {
     "slide_type": "slide"
    }
   },
   "source": [
    "# 课程资料\n",
    "- (包括数据、PPT、可视化、图片、代码) http://github.com/computational-class/bigdata/\n"
   ]
  },
  {
   "cell_type": "markdown",
   "metadata": {
    "slideshow": {
     "slide_type": "slide"
    }
   },
   "source": [
    "# 授课计划\n",
    "\n",
    "- 一、计算新闻传播学简介\n",
    "- 二、数据科学的编程工具：大数据(1h)\n",
    "- 三、数据科学的编程工具：Python使用简介（3h）\n",
    "---\n",
    "\n",
    "- 四、数据抓取：抓取两会报告\n",
    "- 五、数据抓取：抓取天涯论坛帖子\n",
    "- 六、数据清洗：清洗推特数据\n",
    "- 七、数据清洗：清洗占中新闻、清洗天涯论坛帖子\n",
    "---\n",
    "- 八、计算传播与统计初步: 分析天涯论坛的帖子\n",
    "- 九、计算传播与机器学习: 分析天涯论坛的帖子"
   ]
  },
  {
   "cell_type": "markdown",
   "metadata": {
    "slideshow": {
     "slide_type": "subslide"
    }
   },
   "source": [
    "# 授课计划\n",
    "\n",
    "- 十、文本挖掘简介\n",
    "\n",
    "---\n",
    "- 十一、基于机器学习的情感分析\n",
    "- 十二、主题模型\n",
    "- 十三、计算传播应用：推荐系统简介\n",
    "---\n",
    "\n",
    "- 十四、计算传播应用：推荐系统实践\n",
    "- 十五、网络科学理论简介\n",
    "- 十六、网络科学模型\n",
    "---\n",
    "\n",
    "- 十七、网络科学实践：使用networkx分析网络结构\n",
    "- 十八、课程总结与学生研究项目展示"
   ]
  },
  {
   "cell_type": "markdown",
   "metadata": {
    "slideshow": {
     "slide_type": "slide"
    }
   },
   "source": [
    "# 课前准备\n",
    "\n",
    "- 下载&安装anaconda python https://www.continuum.io/downloads\n"
   ]
  },
  {
   "cell_type": "markdown",
   "metadata": {
    "slideshow": {
     "slide_type": "slide"
    }
   },
   "source": [
    "# 课前准备\n",
    "\n",
    "- 申请graphlab的学术版本，获得序列号即可\n",
    "    - <del>https://dato.com/download/academic.html \n",
    "    - https://turi.com/download/academic.html\n",
    "\n"
   ]
  },
  {
   "cell_type": "markdown",
   "metadata": {
    "slideshow": {
     "slide_type": "slide"
    }
   },
   "source": [
    "# 课前准备\n",
    "\n",
    "- Python入门 http://www.imooc.com/view/177\n",
    "- [Beginning Python 《Python基础教程》](http://book.douban.com/subject/5948760/)\n",
    "- 用Python玩转数据 http://www.icourse163.org/course/nju-1001571005#/info"
   ]
  },
  {
   "cell_type": "markdown",
   "metadata": {
    "slideshow": {
     "slide_type": "slide"
    }
   },
   "source": [
    "# 课前准备\n",
    "- 注册github账户 http://github.com\n",
    "- watch本课程repo: https://github.com/computational-class/bigdata/\n",
    "- 下载并安装github desktop客户端 （建议：非必须内容）： https://desktop.github.com/"
   ]
  },
  {
   "cell_type": "markdown",
   "metadata": {
    "slideshow": {
     "slide_type": "slide"
    }
   },
   "source": [
    "# Python's Role in Big Data Analytics\n"
   ]
  },
  {
   "cell_type": "markdown",
   "metadata": {
    "slideshow": {
     "slide_type": "slide"
    }
   },
   "source": [
    "# This is the End.\n",
    "> Thank you for your attention!"
   ]
  }
 ],
 "metadata": {
  "anaconda-cloud": {},
  "celltoolbar": "Slideshow",
  "kernelspec": {
   "display_name": "Python [conda root]",
   "language": "python",
   "name": "conda-root-py"
  },
  "language_info": {
   "codemirror_mode": {
    "name": "ipython",
    "version": 3
   },
   "file_extension": ".py",
   "mimetype": "text/x-python",
   "name": "python",
   "nbconvert_exporter": "python",
   "pygments_lexer": "ipython3",
   "version": "3.5.2"
  },
  "latex_envs": {
   "bibliofile": "biblio.bib",
   "cite_by": "apalike",
   "current_citInitial": 1,
   "eqLabelWithNumbers": true,
   "eqNumInitial": 0
  },
  "toc": {
   "toc_cell": false,
   "toc_number_sections": false,
   "toc_section_display": "none",
   "toc_threshold": 6,
   "toc_window_display": true
  },
  "toc_position": {
   "height": "158px",
   "left": "1166.02px",
   "right": "20px",
   "top": "120px",
   "width": "312px"
  }
 },
 "nbformat": 4,
 "nbformat_minor": 1
}
