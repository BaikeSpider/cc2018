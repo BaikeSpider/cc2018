{
 "cells": [
  {
   "cell_type": "markdown",
   "metadata": {
    "slideshow": {
     "slide_type": "slide"
    }
   },
   "source": [
    "\n",
    "### 南京大学新闻传播学院课程\n",
    "***\n",
    "***\n",
    "# 计算传播学编程基础\n",
    "\n",
    "## 课程简介\n",
    "***\n",
    "***\n",
    "\n",
    "王成军 \n",
    "\n",
    "wangchengjun@nju.edu.cn\n",
    "\n",
    "计算传播网 http://computational-communication.com\n"
   ]
  },
  {
   "cell_type": "markdown",
   "metadata": {
    "slideshow": {
     "slide_type": "slide"
    }
   },
   "source": [
    "# 内容\n",
    "- 时间安排\n",
    "- 课程资料\n",
    "- 授课计划\n",
    "- 课前准备"
   ]
  },
  {
   "cell_type": "markdown",
   "metadata": {
    "slideshow": {
     "slide_type": "slide"
    }
   },
   "source": [
    "# 课程资料\n",
    "- (包括数据、PPT、可视化、图片、代码) http://github.com/computational-class/cc2018/\n"
   ]
  },
  {
   "cell_type": "markdown",
   "metadata": {
    "slideshow": {
     "slide_type": "slide"
    }
   },
   "source": [
    "# 时间安排\n",
    "\n",
    "- 36学时，两学分\n",
    "\n",
    "\n",
    "\n",
    "| 序号          |  日期         |    时间   |内容        | 课时数量   |\n",
    "| -------------|:-------------:|:-------------:|:-------------:|-----:|\n",
    "| 1 | 3月7日 | 14:00-16:00 | 引言：计算传播学简介/课程简介 | 2学时\n",
    "| 2 | 3月14日 | 14:00-16:00 | Python基础: [Introduction](/PythonTour/00-Introduction.ipynb)、[How to Run Python Code](/PythonTour/01-How-to-Run-Python-Code.ipynb)、[Basic Python Syntax](/PythonTour/02-Basic-Python-Syntax.ipynb)| 2学时|\n",
    "| 3 | 3月21日 | 14:00-16:00 |  Python基础: [ Variables](/PythonTour/03-Semantics-Variables.ipynb) & [Operators](/PythonTour/04-Semantics-Operators.ipynb) |2学时|\n",
    "| 4 | 3月28日 | 14:00-16:00 | Python基础: [Built-In Scalar Types](/PythonTour/05-Built-in-Scalar-Types.ipynb) & [Data Structures](/PythonTour/06-Built-in-Data-Structures.ipynb) | 2学时|\n",
    "| 5 | 4月4日| 14:00-16:00 | Python基础: [Control Flow Statements](/PythonTour/07-Control-Flow-Statements.ipynb)、[Defining Functions](/PythonTour/08-Defining-Functions.ipynb)、[Errors and Exceptions](/PythonTour/09-Errors-and-Exceptions.ipynb)| 2学时|\n",
    "| 6 | 4月11日 | 14:00-16:00 | Python基础: [Iterators](/PythonTour/10-Iterators.ipynb) & [List Comprehensions](/PythonTour/11-List-Comprehensions.ipynb)| 2学时|\n",
    "| 7 | 4月18日 | 14:00-16:00 | Python基础: [Generators and Generator Expressions](/PythonTour/12-Generators.ipynb)、[Modules and Packages](/PythonTour/13-Modules-and-Packages.ipynb)、[Strings and Regular Expressions](/PythonTour/14-Strings-and-Regular-Expressions.ipynb)| 2学时|\n",
    "| 8 | 4月25日 | 14:00-16:00 | Python基础: [Preview of Data Science Tools](/PythonTour/15-Preview-of-Data-Science-Tools.ipynb)、[Resources for Further Learning](/PythonTour/16-Further-Resources.ipynb)、[Appendix: Code To Reproduce Figures](/PythonTour/17-Figures.ipynb) | 2学时|\n",
    "| 9 | 5月2日 |  14:00-16:00  | 学生研究项目介绍 |0学时|\n",
    "| 10 | 5月9日 | 14:00-16:00 | 数据科学: [IPython: Beyond Normal Python](/PythonDataScience/notebooks/01.00-IPython-Beyond-Normal-Python.ipynb)| 2学时\n",
    "| 11 | 5月16日 | 14:00-16:00 | 数据科学: [Introduction to NumPy](/PythonDataScience/notebooks/02.00-Introduction-to-NumPy.ipynb)| 2学时|\n",
    "| 12| 5月23日 | 14:00-16:00 |  数据科学:[Data Manipulation with Pandas](/PythonDataScience/notebooks/03.00-Introduction-to-Pandas.ipynb) | 2学时|\n",
    "| 13 | 5月30日 | 14:00-16:00 | 数据科学: [Visualization with Matplotlib](/PythonDataScience/notebooks/04.00-Introduction-To-Matplotlib.ipynb) | 2学时|\n",
    "| 14 | 6月6日| 14:00-16:00 |数据科学:[Machine Learning](/PythonDataScience/notebooks/05.00-Machine-Learning.ipynb)| 2学时|\n",
    "| 15 | 6月13日 | 14:00-16:00 | 数据科学:[Machine Learning](/PythonDataScience/notebooks/05.00-Machine-Learning.ipynb)| 2学时|\n",
    "| 16 | 6月20日 | 14:00-16:00 | 数据科学:[Machine Learning](/PythonDataScience/notebooks/05.00-Machine-Learning.ipynb)| 2学时|\n"
   ]
  },
  {
   "cell_type": "markdown",
   "metadata": {
    "slideshow": {
     "slide_type": "slide"
    }
   },
   "source": [
    "# 课前准备\n",
    "\n",
    "- 下载&安装anaconda python https://www.continuum.io/downloads\n",
    "\n",
    "**注意**: 选择python 3.x 版本\n"
   ]
  },
  {
   "cell_type": "markdown",
   "metadata": {
    "slideshow": {
     "slide_type": "slide"
    }
   },
   "source": [
    "# 课前准备\n",
    "\n",
    "- [Beginning Python 《Python基础教程》](http://book.douban.com/subject/5948760/)\n",
    "- Python入门 http://www.imooc.com/view/177\n",
    "- 用Python玩转数据 http://www.icourse163.org/course/nju-1001571005#/info"
   ]
  },
  {
   "cell_type": "markdown",
   "metadata": {
    "slideshow": {
     "slide_type": "slide"
    }
   },
   "source": [
    "# 课前准备\n",
    "- 注册github账户 http://github.com\n",
    "- watch本课程repo: https://github.com/computational-class/cc2018/\n",
    "- 下载并安装github desktop客户端 （建议：非必须内容）： https://desktop.github.com/"
   ]
  },
  {
   "cell_type": "markdown",
   "metadata": {
    "slideshow": {
     "slide_type": "slide"
    }
   },
   "source": [
    "# Python's Role in Big Data Analytics\n"
   ]
  },
  {
   "cell_type": "markdown",
   "metadata": {
    "slideshow": {
     "slide_type": "slide"
    }
   },
   "source": [
    "# This is the End.\n",
    "> Thank you for your attention!"
   ]
  }
 ],
 "metadata": {
  "anaconda-cloud": {},
  "celltoolbar": "Slideshow",
  "kernelspec": {
   "display_name": "Python [conda root]",
   "language": "python",
   "name": "conda-root-py"
  },
  "language_info": {
   "codemirror_mode": {
    "name": "ipython",
    "version": 3
   },
   "file_extension": ".py",
   "mimetype": "text/x-python",
   "name": "python",
   "nbconvert_exporter": "python",
   "pygments_lexer": "ipython3",
   "version": "3.5.2"
  },
  "latex_envs": {
   "bibliofile": "biblio.bib",
   "cite_by": "apalike",
   "current_citInitial": 1,
   "eqLabelWithNumbers": true,
   "eqNumInitial": 0
  },
  "toc": {
   "toc_cell": false,
   "toc_number_sections": false,
   "toc_section_display": "none",
   "toc_threshold": 6,
   "toc_window_display": true
  },
  "toc_position": {
   "height": "158px",
   "left": "1166.02px",
   "right": "20px",
   "top": "120px",
   "width": "312px"
  }
 },
 "nbformat": 4,
 "nbformat_minor": 1
}
